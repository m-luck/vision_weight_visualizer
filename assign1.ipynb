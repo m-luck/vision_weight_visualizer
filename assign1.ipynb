{
 "cells": [
  {
   "cell_type": "markdown",
   "metadata": {},
   "source": [
    "# Computer Vision CSCI-GA.2272-001 Assignment 1\n",
    "\n",
    "## Introduction\n",
    "\n",
    "This assignment is an introduction to using PyTorch for training simple neural net models. Two different datasets will be used: \n",
    "- MNIST digits [handwritten digits]\n",
    "- CIFAR-10 [32x32 resolution color images of 10 object classes].\n",
    "\n",
    "## Requirements\n",
    "\n",
    "You should perform this assignment in PyTorch, modify this ipython notebook\n",
    "\n",
    "To install PyTorch, follow instructions at http://pytorch.org/\n",
    "\n",
    "Please submit your assignment by uploading this iPython notebook to NYU classes.\n",
    "\n",
    "## Warmup [10%]\n",
    "\n",
    "It is always good practice to visually inspect your data before trying to train a model, since it lets you check for problems and get a feel for the task at hand.\n",
    "\n",
    "MNIST is a dataset of 70,000 grayscale hand-written digits (0 through 9).\n",
    "60,000 of these are training images. 10,000 are a held out test set. \n",
    "\n",
    "CIFAR-10 is a dataset of 60,000 color images (32 by 32 resolution) across 10 classes\n",
    "(airplane, automobile, bird, cat, deer, dog, frog, horse, ship, truck). \n",
    "The train/test split is 50k/10k.\n",
    "\n",
    "Use `matplotlib` and ipython notebook's visualization capabilities to display some of these images.\n",
    "[See this PyTorch tutorial page](http://pytorch.org/tutorials/beginner/blitz/cifar10_tutorial.html#sphx-glr-beginner-blitz-cifar10-tutorial-py) for hints on how to achieve this.\n",
    "\n",
    "** Relevant Cell: \"Data Loading\" **\n"
   ]
  },
  {
   "cell_type": "code",
   "execution_count": 9,
   "metadata": {},
   "outputs": [],
   "source": [
    "from __future__ import print_function\n",
    "import argparse\n",
    "import torch\n",
    "import torch.nn as nn\n",
    "import torch.nn.functional as F\n",
    "import torch.optim as optim\n",
    "from torchvision import datasets, transforms, utils\n",
    "from torch.autograd import Variable\n",
    "\n",
    "# Additional packages other than default notebook.\n",
    "from matplotlib import pyplot as plt\n",
    "import numpy as np\n",
    "from torchviz import make_dot\n",
    "\n",
    "# options\n",
    "dataset = 'mnist' # options: 'mnist' | 'cifar10'\n",
    "batch_size = 64   # input batch size for training\n",
    "epochs = 10      # number of epochs to train\n",
    "lr = 0.01        # learning rate\n",
    "\n",
    "# Data Loading\n",
    "# Warning: this cell might take some time when you run it for the first time, \n",
    "#          because it will download the datasets from the internet\n",
    "if dataset == 'mnist':\n",
    "    data_transform = transforms.Compose([\n",
    "        transforms.ToTensor(),\n",
    "        transforms.Normalize((0.1307,), (0.3081,))\n",
    "    ])\n",
    "    trainset = datasets.MNIST(root='.', train=True, download=True, transform=data_transform)\n",
    "    testset = datasets.MNIST(root='.', train=False, download=True, transform=data_transform)\n",
    "\n",
    "elif dataset == 'cifar10':\n",
    "    data_transform = transforms.Compose([\n",
    "        transforms.ToTensor(),\n",
    "        transforms.Normalize((0.5, 0.5, 0.5), (0.5, 0.5, 0.5)),\n",
    "    ])\n",
    "    trainset = datasets.CIFAR10(root='.', train=True, download=True, transform=data_transform)\n",
    "    testset = datasets.CIFAR10(root='.', train=False, download=True, transform=data_transform)\n",
    "\n",
    "train_loader = torch.utils.data.DataLoader(trainset, batch_size=batch_size, shuffle=True, num_workers=0)\n",
    "test_loader  = torch.utils.data.DataLoader(testset, batch_size=batch_size, shuffle=False, num_workers=0)"
   ]
  },
  {
   "cell_type": "code",
   "execution_count": 3,
   "metadata": {},
   "outputs": [
    {
     "name": "stderr",
     "output_type": "stream",
     "text": [
      "Clipping input data to the valid range for imshow with RGB data ([0..1] for floats or [0..255] for integers).\n"
     ]
    },
    {
     "data": {
      "image/png": "[encoded data removed]",
      "text/plain": [
       "<Figure size 432x288 with 1 Axes>"
      ]
     },
     "metadata": {
      "needs_background": "light"
     },
     "output_type": "display_data"
    }
   ],
   "source": [
    "def imshow(img):\n",
    "    img = img / 2 + 0.5     # unnormalize\n",
    "    npimg = img.numpy()\n",
    "    plt.imshow(np.transpose(npimg, (1, 2, 0)))\n",
    "    plt.show()\n",
    "\n",
    "\n",
    "# get some random training images\n",
    "dataiter = iter(train_loader)\n",
    "images, labels = dataiter.next()\n",
    "\n",
    "# show images\n",
    "imshow(utils.make_grid(images))\n",
    "# print labels\n",
    "# print(' '.join('%5s' % classes[labels[j]] for j in range(4)))"
   ]
  },
  {
   "cell_type": "markdown",
   "metadata": {},
   "source": [
    "\n",
    "## Training a Single Layer Network on MNIST [20%]\n",
    "\n",
    "Start by running the training on MNIST.\n",
    "By default if you run this notebook successfully, it will train on MNIST.\n",
    "\n",
    "This will initialize a single layer model train it on the 50,000 MNIST training images for 10 epochs (passes through the training data). \n",
    "\n",
    "The loss function [cross_entropy](http://pytorch.org/docs/master/nn.html?highlight=cross_entropy#torch.nn.functional.cross_entropy) computes a Logarithm of the Softmax on the output of the neural network, and then computes the negative log-likelihood w.r.t. the given `target`.\n",
    "\n",
    "The default values for the learning rate, batch size and number of epochs are given in the \"options\" cell of this notebook. \n",
    "Unless otherwise specified, use the default values throughout this assignment. \n",
    "\n",
    "Note the decrease in training loss and corresponding decrease in validation errors.\n",
    "\n",
    "Paste the output into your report.\n",
    "(a): Add code to plot out the network weights as images (one for each output, of size 28 by 28) after the last epoch. Grab a screenshot of the figure and include it in your report. (Hint threads: [#1](https://discuss.pytorch.org/t/understanding-deep-network-visualize-weights/2060/2?u=smth) [#2](https://github.com/pytorch/vision#utils) )\n",
    "\n",
    "(b): Reduce the number of training examples to just 50. [Hint: limit the iterator in the `train` function]. \n",
    "Paste the output into your report and explain what is happening to the model."
   ]
  },
  {
   "cell_type": "code",
   "execution_count": null,
   "metadata": {},
   "outputs": [],
   "source": [
    "## network and optimizer\n",
    "if dataset == 'mnist':\n",
    "    num_inputs = 784\n",
    "elif dataset == 'cifar10':\n",
    "    num_inputs = 3072\n",
    "\n",
    "num_outputs = 10 # same for both CIFAR10 and MNIST, both have 10 classes as outputs\n",
    "\n",
    "class Net(nn.Module):\n",
    "    def __init__(self, num_inputs, num_outputs):\n",
    "        super(Net, self).__init__()\n",
    "        self.linear = nn.Linear(num_inputs, num_outputs)\n",
    "    def forward(self, input):\n",
    "        input = input.view(-1, num_inputs) # reshape input to batch x num_inputs\n",
    "        output = self.linear(input)\n",
    "        return output\n",
    "\n",
    "network = Net(num_inputs, num_outputs)\n",
    "optimizer = optim.SGD(network.parameters(), lr=lr)\n",
    "\n",
    "def train(epoch):\n",
    "    network.train()\n",
    "    for batch_idx, (data, target) in enumerate(train_loader):\n",
    "        data, target = Variable(data), Variable(target)\n",
    "        optimizer.zero_grad()\n",
    "        output = network(data)\n",
    "        loss = F.cross_entropy(output, target)\n",
    "        loss.backward()\n",
    "        optimizer.step()\n",
    "        if batch_idx % 100 == 0:\n",
    "            print('Train Epoch: {} [{}/{} ({:.0f}%)]\\tLoss: {:.6f}'.format(\n",
    "                epoch, batch_idx * len(data), len(train_loader.dataset),\n",
    "                100. * batch_idx / len(train_loader), loss.data.item()))\n",
    "\n",
    "def test(last_epoch=False):\n",
    "    with torch.no_grad():\n",
    "        network.eval()\n",
    "        test_loss = 0\n",
    "        correct = 0\n",
    "        for data, target in test_loader:\n",
    "            data, target = Variable(data, volatile=True), Variable(target)\n",
    "            output = network(data)\n",
    "            test_loss += F.cross_entropy(output, target, reduction='sum').data.item() # sum up batch loss\n",
    "            pred = output.data.max(1, keepdim=True)[1] # get the index of the max log-probability\n",
    "            correct += pred.eq(target.data.view_as(pred)).cpu().sum()\n",
    "\n",
    "        test_loss /= len(test_loader.dataset)\n",
    "        print('\\nTest set: Average loss: {:.4f}, Accuracy: {}/{} ({:.0f}%)\\n'.format(\n",
    "            test_loss, correct, len(test_loader.dataset),\n",
    "            100. * correct / len(test_loader.dataset)))\n"
   ]
  },
  {
   "cell_type": "code",
   "execution_count": null,
   "metadata": {},
   "outputs": [],
   "source": [
    "for epoch in range(1, epochs + 1):\n",
    "    train(epoch)\n",
    "    test()"
   ]
  },
  {
   "cell_type": "code",
   "execution_count": 97,
   "metadata": {},
   "outputs": [
    {
     "name": "stdout",
     "output_type": "stream",
     "text": [
      "linear.weight tensor([[ 1.1831e-02,  1.2162e-02,  2.6806e-02,  ..., -2.7807e-02,\n",
      "          2.3772e-02, -8.9213e-03],\n",
      "        [-7.1571e-03, -1.7046e-02,  1.5605e-02,  ...,  1.9322e-02,\n",
      "          8.2628e-03,  9.5532e-03],\n",
      "        [-1.6292e-02, -8.2294e-04, -4.5438e-02,  ...,  1.1936e-02,\n",
      "         -4.1764e-02, -4.0247e-02],\n",
      "        ...,\n",
      "        [-3.5425e-02, -8.3602e-05,  1.8134e-02,  ...,  1.5945e-02,\n",
      "          3.8415e-03,  2.2798e-02],\n",
      "        [-7.5982e-03, -1.9207e-02,  1.3761e-02,  ..., -2.2034e-02,\n",
      "          3.5478e-02,  3.3602e-02],\n",
      "        [-2.4144e-02,  1.0248e-03, -1.0617e-02,  ...,  3.8033e-02,\n",
      "          3.8836e-02,  2.9389e-02]])\n"
     ]
    },
    {
     "data": {
      "image/png": "[encoded data removed]",
      "text/plain": [
       "<Figure size 360x216 with 10 Axes>"
      ]
     },
     "metadata": {
      "needs_background": "light"
     },
     "output_type": "display_data"
    },
    {
     "name": "stdout",
     "output_type": "stream",
     "text": [
      "linear.bias tensor([-0.0393,  0.0048,  0.0514,  0.0287, -0.0377,  0.0230,  0.0221, -0.0223,\n",
      "        -0.0370, -0.0270])\n"
     ]
    }
   ],
   "source": [
    "for name, weight in network.state_dict().items():\n",
    "    print(name, weight)\n",
    "    if name=='linear.weight':\n",
    "        num_cols = 5\n",
    "        num_kernels = weight.shape[0]\n",
    "        num_rows = 1 + num_kernels // num_cols\n",
    "        fig = plt.figure(figsize=(num_cols,num_rows))\n",
    "        for i in range(weight.shape[0]):\n",
    "            ax1 = fig.add_subplot(num_rows,num_cols,i+1)\n",
    "            image_pixels = weight.tolist()[i]\n",
    "            image = np.reshape(image_pixels, (-1, 28))\n",
    "            ax1.imshow(image)\n",
    "            ax1.axis('off')\n",
    "            ax1.set_xticklabels([])\n",
    "            ax1.set_yticklabels([])\n",
    "        plt.subplots_adjust(wspace=0.1, hspace=0.1)\n",
    "        plt.show()\n",
    "        # Wow!"
   ]
  },
  {
   "cell_type": "raw",
   "metadata": {},
   "source": [
    "Output for above:\n",
    "\n",
    "Train Epoch: 1 [0/60000 (0%)]\tLoss: 2.473092\n",
    "Train Epoch: 1 [57600/60000 (96%)]\tLoss: 0.613135\n",
    "Test set: Average loss: 0.3342, Accuracy: 9073/10000 (90%)\n",
    "\n",
    "Train Epoch: 2 [0/60000 (0%)]\tLoss: 0.432176\n",
    "Train Epoch: 2 [57600/60000 (96%)]\tLoss: 0.250986\n",
    "Test set: Average loss: 0.3064, Accuracy: 9144/10000 (91%)\n",
    "\n",
    "Train Epoch: 3 [0/60000 (0%)]\tLoss: 0.276413\n",
    "Train Epoch: 3 [57600/60000 (96%)]\tLoss: 0.200941\n",
    "Test set: Average loss: 0.2934, Accuracy: 9163/10000 (91%)\n",
    "\n",
    "Train Epoch: 4 [0/60000 (0%)]\tLoss: 0.252296\n",
    "Train Epoch: 4 [57600/60000 (96%)]\tLoss: 0.357095\n",
    "Test set: Average loss: 0.2884, Accuracy: 9191/10000 (91%)\n",
    "\n",
    "Train Epoch: 5 [0/60000 (0%)]\tLoss: 0.407383\n",
    "Train Epoch: 5 [57600/60000 (96%)]\tLoss: 0.218538\n",
    "Test set: Average loss: 0.2856, Accuracy: 9212/10000 (92%)\n",
    "\n",
    "Train Epoch: 6 [0/60000 (0%)]\tLoss: 0.285519\n",
    "Train Epoch: 6 [57600/60000 (96%)]\tLoss: 0.314444\n",
    "Test set: Average loss: 0.2810, Accuracy: 9206/10000 (92%)\n",
    "\n",
    "Train Epoch: 7 [0/60000 (0%)]\tLoss: 0.298814\n",
    "Train Epoch: 7 [57600/60000 (96%)]\tLoss: 0.295985\n",
    "Test set: Average loss: 0.2797, Accuracy: 9213/10000 (92%)\n",
    "\n",
    "Train Epoch: 8 [0/60000 (0%)]\tLoss: 0.215273\n",
    "Train Epoch: 8 [57600/60000 (96%)]\tLoss: 0.119329\n",
    "Test set: Average loss: 0.2779, Accuracy: 9219/10000 (92%)\n",
    "\n",
    "Train Epoch: 9 [0/60000 (0%)]\tLoss: 0.234338\n",
    "Train Epoch: 9 [57600/60000 (96%)]\tLoss: 0.198892\n",
    "Test set: Average loss: 0.2797, Accuracy: 9192/10000 (91%)\n",
    "\n",
    "Train Epoch: 10 [0/60000 (0%)]\tLoss: 0.425154\n",
    "Train Epoch: 10 [57600/60000 (96%)]\tLoss: 0.312325\n",
    "Test set: Average loss: 0.2749, Accuracy: 9208/10000 (92%)\n",
    "\n"
   ]
  },
  {
   "cell_type": "markdown",
   "metadata": {},
   "source": [
    "## Training a Multi-Layer Network on MNIST [20%]\n",
    "\n",
    "- Add an extra layer to the network with 1000 hidden units and a `tanh` non-linearity. [Hint: modify the `Net` class]. Train the model for 10 epochs and save the output into your report.\n",
    "-  Now set the learning rate to 10 and observe what happens during training. Save the output in your report and give a brief explanation\n"
   ]
  },
  {
   "cell_type": "code",
   "execution_count": 13,
   "metadata": {},
   "outputs": [
    {
     "name": "stdout",
     "output_type": "stream",
     "text": [
      "Train Epoch: 1 [0/60000 (0%)]\tLoss: 2.338341\n",
      "Train Epoch: 1 [6400/60000 (11%)]\tLoss: 1.540526\n",
      "Train Epoch: 1 [12800/60000 (21%)]\tLoss: 1.466337\n",
      "Train Epoch: 1 [19200/60000 (32%)]\tLoss: 1.344323\n",
      "Train Epoch: 1 [25600/60000 (43%)]\tLoss: 1.392934\n",
      "Train Epoch: 1 [32000/60000 (53%)]\tLoss: 1.307723\n",
      "Train Epoch: 1 [38400/60000 (64%)]\tLoss: 1.365761\n",
      "Train Epoch: 1 [44800/60000 (75%)]\tLoss: 1.345537\n",
      "Train Epoch: 1 [51200/60000 (85%)]\tLoss: 1.264169\n",
      "Train Epoch: 1 [57600/60000 (96%)]\tLoss: 1.375937\n"
     ]
    },
    {
     "name": "stderr",
     "output_type": "stream",
     "text": [
      "/usr/lib/python3.7/site-packages/ipykernel_launcher.py:41: UserWarning: volatile was removed and now has no effect. Use `with torch.no_grad():` instead.\n"
     ]
    },
    {
     "name": "stdout",
     "output_type": "stream",
     "text": [
      "\n",
      "Test set: Average loss: 1.2902, Accuracy: 8995/10000 (89%)\n",
      "\n"
     ]
    }
   ],
   "source": [
    "class Net(nn.Module):\n",
    "    def __init__(self, num_inputs, num_outputs):\n",
    "        super().__init__()\n",
    "        \n",
    "        self.layer1 = nn.Linear(num_inputs, 1000)\n",
    "        self.layer2 = nn.Linear(1000, num_outputs)\n",
    "        self.activation = nn.Tanh()\n",
    "    def forward(self, input):\n",
    "        input = input.view(-1, num_inputs) # reshape input to batch x num_inputs\n",
    "        first = self.layer1(input)\n",
    "        first_activation = self.activation(first)\n",
    "        second = self.layer2(first_activation)\n",
    "        second_activation = self.activation(second)\n",
    "        output = self.activation(second_activation)\n",
    "        \n",
    "        return output\n",
    "\n",
    "network = Net(num_inputs, num_outputs)\n",
    "optimizer = optim.SGD(network.parameters(), lr=lr)\n",
    "\n",
    "def train(epoch):\n",
    "    network.train()\n",
    "    for batch_idx, (data, target) in enumerate(train_loader):\n",
    "        data, target = Variable(data), Variable(target)\n",
    "        optimizer.zero_grad()\n",
    "        output = network(data)\n",
    "        loss = F.cross_entropy(output, target)\n",
    "        loss.backward()\n",
    "        optimizer.step()\n",
    "        if batch_idx % 100 == 0:\n",
    "            print('Train Epoch: {} [{}/{} ({:.0f}%)]\\tLoss: {:.6f}'.format(\n",
    "                epoch, batch_idx * len(data), len(train_loader.dataset),\n",
    "                100. * batch_idx / len(train_loader), loss.data.item()))\n",
    "\n",
    "def test(last_epoch=False):\n",
    "    with torch.no_grad():\n",
    "        network.eval()\n",
    "        test_loss = 0\n",
    "        correct = 0\n",
    "        for data, target in test_loader:\n",
    "            data, target = Variable(data, volatile=True), Variable(target)\n",
    "            output = network(data)\n",
    "            test_loss += F.cross_entropy(output, target, reduction='sum').data.item() # sum up batch loss\n",
    "            pred = output.data.max(1, keepdim=True)[1] # get the index of the max log-probability\n",
    "            correct += pred.eq(target.data.view_as(pred)).cpu().sum()\n",
    "\n",
    "        test_loss /= len(test_loader.dataset)\n",
    "        print('\\nTest set: Average loss: {:.4f}, Accuracy: {}/{} ({:.0f}%)\\n'.format(\n",
    "            test_loss, correct, len(test_loader.dataset),\n",
    "            100. * correct / len(test_loader.dataset)))\n",
    "\n",
    "\n",
    "for epoch in range(1, 2):\n",
    "    train(epoch)\n",
    "    test()"
   ]
  },
  {
   "cell_type": "code",
   "execution_count": null,
   "metadata": {},
   "outputs": [],
   "source": [
    "lr = 10.0\n",
    "\n",
    "network = Net(num_inputs, num_outputs)\n",
    "optimizer = optim.SGD(network.parameters(), lr=lr)\n",
    "\n",
    "def train(epoch):\n",
    "    network.train()\n",
    "    for batch_idx, (data, target) in enumerate(train_loader):\n",
    "        data, target = Variable(data), Variable(target)\n",
    "        optimizer.zero_grad()\n",
    "        output = network(data)\n",
    "        loss = F.cross_entropy(output, target)\n",
    "        loss.backward()\n",
    "        optimizer.step()\n",
    "        if batch_idx % 100 == 0:\n",
    "            print('Train Epoch: {} [{}/{} ({:.0f}%)]\\tLoss: {:.6f}'.format(\n",
    "                epoch, batch_idx * len(data), len(train_loader.dataset),\n",
    "                100. * batch_idx / len(train_loader), loss.data.item()))\n",
    "\n",
    "def test(last_epoch=False):\n",
    "    with torch.no_grad():\n",
    "        network.eval()\n",
    "        test_loss = 0\n",
    "        correct = 0\n",
    "        for data, target in test_loader:\n",
    "            data, target = Variable(data, volatile=True), Variable(target)\n",
    "            output = network(data)\n",
    "            test_loss += F.cross_entropy(output, target, reduction='sum').data.item() # sum up batch loss\n",
    "            pred = output.data.max(1, keepdim=True)[1] # get the index of the max log-probability\n",
    "            correct += pred.eq(target.data.view_as(pred)).cpu().sum()\n",
    "\n",
    "        test_loss /= len(test_loader.dataset)\n",
    "        print('\\nTest set: Average loss: {:.4f}, Accuracy: {}/{} ({:.0f}%)\\n'.format(\n",
    "            test_loss, correct, len(test_loader.dataset),\n",
    "            100. * correct / len(test_loader.dataset)))\n",
    "\n",
    "for epoch in range(1, 2):\n",
    "    train(epoch)\n",
    "    test()"
   ]
  },
  {
   "cell_type": "markdown",
   "metadata": {},
   "source": [
    "\n",
    "## Training a Convolutional Network on CIFAR [50%]\n",
    "\n",
    "To change over to the CIFAR-10 dataset, change the `options` cell's `dataset` variable to `'cifar10'`.\n",
    "\n",
    "- Create a convolutional network with the following architecture:\n",
    "  - Convolution with 5 by 5 filters, 16 feature maps + Tanh nonlinearity.\n",
    "  - 2 by 2 max pooling.\n",
    "  - Convolution with 5 by 5 filters, 128 feature maps + Tanh nonlinearity.\n",
    "  - 2 by 2 max pooling.\n",
    "  - Flatten to vector.\n",
    "  - Linear layer with 64 hidden units + Tanh nonlinearity.\n",
    "  - Linear layer to 10 output units.\n",
    "\n",
    "Train it for 20 epochs on the CIFAR-10 training set and copy the output\n",
    "into your report, along with a image of the first layer filters.\n",
    "\n",
    "Hints: [Follow the first PyTorch tutorial](http://pytorch.org/tutorials/beginner/blitz/neural_networks_tutorial.html#sphx-glr-beginner-blitz-neural-networks-tutorial-py) or look at the [MNIST example](https://github.com/pytorch/examples/tree/master/mnist)\n",
    "\n",
    "- Give a breakdown of the parameters within the above model, and the overall number."
   ]
  },
  {
   "cell_type": "code",
   "execution_count": 4,
   "metadata": {
    "collapsed": false,
    "jupyter": {
     "outputs_hidden": false
    }
   },
   "outputs": [],
   "source": [
    "class CNN(torch.nn.Module):\n",
    "    \n",
    "    \n",
    "    def __init__(self):\n",
    "        super(Net, self).__init__()\n",
    "        # 1 input image channel, 6 output channels, 3x3 square convolution\n",
    "        # kernel\n",
    "        self.conv1 = nn.Conv2d(1, 6, 3)\n",
    "        self.conv2 = nn.Conv2d(6, 16, 3)\n",
    "        # an affine operation: y = Wx + b\n",
    "        self.fc1 = nn.Linear(16 * 6 * 6, 120)  # 6*6 from image dimension\n",
    "        self.fc2 = nn.Linear(120, 84)\n",
    "        self.fc3 = nn.Linear(84, 10)\n",
    "\n",
    "    def forward(self, x):\n",
    "        # Max pooling over a (2, 2) window\n",
    "        x = F.max_pool2d(F.relu(self.conv1(x)), (2, 2))\n",
    "        # If the size is a square you can only specify a single number\n",
    "        x = F.max_pool2d(F.relu(self.conv2(x)), 2)\n",
    "        x = x.view(-1, self.num_flat_features(x))\n",
    "        x = F.relu(self.fc1(x))\n",
    "        x = F.relu(self.fc2(x))\n",
    "        x = self.fc3(x)\n",
    "        return x\n",
    "\n",
    "    def num_flat_features(self, x):\n",
    "        size = x.size()[1:]  # all dimensions except the batch dimension\n",
    "        num_features = 1\n",
    "        for s in size:\n",
    "            num_features *= s\n",
    "        return num_features\n",
    "\n",
    "\n",
    "net = Net()\n",
    "print(net)"
   ]
  },
  {
   "cell_type": "code",
   "execution_count": 5,
   "metadata": {},
   "outputs": [],
   "source": []
  },
  {
   "cell_type": "code",
   "execution_count": null,
   "metadata": {
    "collapsed": false,
    "jupyter": {
     "outputs_hidden": false
    }
   },
   "outputs": [],
   "source": []
  },
  {
   "cell_type": "code",
   "execution_count": null,
   "metadata": {
    "collapsed": true,
    "jupyter": {
     "outputs_hidden": true
    }
   },
   "outputs": [],
   "source": []
  }
 ],
 "metadata": {
  "kernelspec": {
   "display_name": "Python 3",
   "language": "python",
   "name": "python3"
  },
  "language_info": {
   "codemirror_mode": {
    "name": "ipython",
    "version": 3
   },
   "file_extension": ".py",
   "mimetype": "text/x-python",
   "name": "python",
   "nbconvert_exporter": "python",
   "pygments_lexer": "ipython3",
   "version": "3.7.4"
  }
 },
 "nbformat": 4,
 "nbformat_minor": 4
}
